{
  "cells": [
    {
      "cell_type": "code",
      "execution_count": null,
      "id": "Ygsi8UljCj_J",
      "metadata": {
        "colab": {
          "base_uri": "https://localhost:8080/"
        },
        "id": "Ygsi8UljCj_J",
        "outputId": "0171ec0e-7673-40e2-c8de-815ef532f111"
      },
      "outputs": [
        {
          "output_type": "stream",
          "name": "stdout",
          "text": [
            "Mounted at /content/drive\n"
          ]
        }
      ],
      "source": [
        "from google.colab import drive\n",
        "drive.mount('/content/drive')"
      ]
    },
    {
      "cell_type": "code",
      "execution_count": null,
      "id": "eSAECZWXDfWc",
      "metadata": {
        "colab": {
          "base_uri": "https://localhost:8080/",
          "height": 35
        },
        "id": "eSAECZWXDfWc",
        "outputId": "4a8b6514-3c79-4805-c081-7249a34b0c5d"
      },
      "outputs": [
        {
          "output_type": "execute_result",
          "data": {
            "text/plain": [
              "'/content/drive/Shareddrives/AI201 Mini Project - Redondo'"
            ],
            "application/vnd.google.colaboratory.intrinsic+json": {
              "type": "string"
            }
          },
          "metadata": {},
          "execution_count": 3
        }
      ],
      "source": [
        "import os\n",
        "os.chdir('/content/drive/Shareddrives/AI201 Mini Project - Redondo')\n",
        "os.getcwd()"
      ]
    },
    {
      "cell_type": "code",
      "execution_count": null,
      "id": "6fa75a25",
      "metadata": {
        "id": "6fa75a25"
      },
      "outputs": [],
      "source": [
        "import pandas as pd\n",
        "import numpy as np\n",
        "from sklearn.preprocessing import LabelEncoder\n",
        "pd.set_option('display.max_columns', None)\n",
        "pd.set_option('display.width', 1000)"
      ]
    },
    {
      "cell_type": "code",
      "execution_count": null,
      "id": "aLYMN4YfCH7c",
      "metadata": {
        "id": "aLYMN4YfCH7c"
      },
      "outputs": [],
      "source": [
        "application_train = pd.read_csv('application_train.csv')\n",
        "application_test = pd.read_csv('application_test.csv')\n",
        "bureau = pd.read_csv('bureau.csv')\n",
        "bureau_balance = pd.read_csv('bureau_balance.csv')\n",
        "credit_card_balance = pd.read_csv('credit_card_balance.csv')\n",
        "installments_payments = pd.read_csv('installments_payments.csv')\n",
        "POS_CASH_balance = pd.read_csv('POS_CASH_balance.csv')\n",
        "previous_application = pd.read_csv('previous_application.csv')\n",
        "bureau = bureau.merge(bureau_balance, on='SK_ID_BUREAU', how='left')"
      ]
    },
    {
      "cell_type": "markdown",
      "id": "9W_3YRnt1EBa",
      "metadata": {
        "id": "9W_3YRnt1EBa"
      },
      "source": [
        "## Preprocessing"
      ]
    },
    {
      "cell_type": "markdown",
      "source": [
        "The ff tables were aggregated by SK_ID_CURR so we can join it to the main application train dataframe:\n",
        "- bureau\n",
        "- bureau balance\n",
        "- credit card balance\n",
        "- installment payments\n",
        "- POS Cash balance\n",
        "- previous applications"
      ],
      "metadata": {
        "id": "zoJHxSY-GxSI"
      },
      "id": "zoJHxSY-GxSI"
    },
    {
      "cell_type": "code",
      "execution_count": null,
      "id": "xS7x0R1nJYWY",
      "metadata": {
        "id": "xS7x0R1nJYWY"
      },
      "outputs": [],
      "source": [
        "b_pivot = bureau.groupby('SK_ID_CURR').agg({\n",
        "    'DAYS_CREDIT': ['min', 'max', 'mean', 'std'],\n",
        "    'CREDIT_DAY_OVERDUE': ['max', 'mean'],\n",
        "    'DAYS_CREDIT_ENDDATE': ['min', 'max', 'mean'],\n",
        "    'DAYS_ENDDATE_FACT': ['min', 'max', 'mean'],\n",
        "    'AMT_CREDIT_MAX_OVERDUE': ['max', 'mean'],\n",
        "    'CNT_CREDIT_PROLONG': ['sum', 'mean'],\n",
        "    'AMT_CREDIT_SUM': ['sum', 'mean', 'max'],\n",
        "    'AMT_CREDIT_SUM_DEBT': ['sum', 'mean'],\n",
        "    'AMT_CREDIT_SUM_LIMIT': ['sum', 'mean'],\n",
        "    'AMT_CREDIT_SUM_OVERDUE': ['sum', 'mean'],\n",
        "    'DAYS_CREDIT_UPDATE': ['min', 'max', 'mean'],\n",
        "    'AMT_ANNUITY': ['sum', 'mean'],\n",
        "    'MONTHS_BALANCE': ['median']\n",
        "})\n",
        "# Flatten column names\n",
        "b_pivot.columns = ['BUREAU_' + '_'.join(col).upper() for col in b_pivot.columns]\n",
        "b_pivot.reset_index(inplace=True)"
      ]
    },
    {
      "cell_type": "code",
      "execution_count": null,
      "id": "XojUmP__Jpyi",
      "metadata": {
        "id": "XojUmP__Jpyi"
      },
      "outputs": [],
      "source": [
        "cat_cols = ['CREDIT_ACTIVE', 'CREDIT_CURRENCY', 'CREDIT_TYPE']\n",
        "bureau_cat = pd.get_dummies(bureau[cat_cols + ['SK_ID_CURR']], columns=cat_cols)\n",
        "\n",
        "# Aggregate by SK_ID_CURR\n",
        "cat_pivot = bureau_cat.groupby('SK_ID_CURR').agg('mean')  # or 'sum' for total count of occurrences\n",
        "cat_pivot.columns = ['BUREAU_' + col.upper() for col in cat_pivot.columns]\n",
        "cat_pivot.reset_index(inplace=True)"
      ]
    },
    {
      "cell_type": "code",
      "execution_count": null,
      "id": "fAo1l7MJJy64",
      "metadata": {
        "id": "fAo1l7MJJy64",
        "colab": {
          "base_uri": "https://localhost:8080/"
        },
        "outputId": "322c19bc-6884-4954-e677-17ab541f4002"
      },
      "outputs": [
        {
          "output_type": "stream",
          "name": "stdout",
          "text": [
            "Empty DataFrame\n",
            "Columns: [SK_ID_CURR, BUREAU_DAYS_CREDIT_MIN, BUREAU_DAYS_CREDIT_MAX, BUREAU_DAYS_CREDIT_MEAN, BUREAU_DAYS_CREDIT_STD, BUREAU_CREDIT_DAY_OVERDUE_MAX, BUREAU_CREDIT_DAY_OVERDUE_MEAN, BUREAU_DAYS_CREDIT_ENDDATE_MIN, BUREAU_DAYS_CREDIT_ENDDATE_MAX, BUREAU_DAYS_CREDIT_ENDDATE_MEAN, BUREAU_DAYS_ENDDATE_FACT_MIN, BUREAU_DAYS_ENDDATE_FACT_MAX, BUREAU_DAYS_ENDDATE_FACT_MEAN, BUREAU_AMT_CREDIT_MAX_OVERDUE_MAX, BUREAU_AMT_CREDIT_MAX_OVERDUE_MEAN, BUREAU_CNT_CREDIT_PROLONG_SUM, BUREAU_CNT_CREDIT_PROLONG_MEAN, BUREAU_AMT_CREDIT_SUM_SUM, BUREAU_AMT_CREDIT_SUM_MEAN, BUREAU_AMT_CREDIT_SUM_MAX, BUREAU_AMT_CREDIT_SUM_DEBT_SUM, BUREAU_AMT_CREDIT_SUM_DEBT_MEAN, BUREAU_AMT_CREDIT_SUM_LIMIT_SUM, BUREAU_AMT_CREDIT_SUM_LIMIT_MEAN, BUREAU_AMT_CREDIT_SUM_OVERDUE_SUM, BUREAU_AMT_CREDIT_SUM_OVERDUE_MEAN, BUREAU_DAYS_CREDIT_UPDATE_MIN, BUREAU_DAYS_CREDIT_UPDATE_MAX, BUREAU_DAYS_CREDIT_UPDATE_MEAN, BUREAU_AMT_ANNUITY_SUM, BUREAU_AMT_ANNUITY_MEAN, BUREAU_MONTHS_BALANCE_MEDIAN, BUREAU_CREDIT_ACTIVE_ACTIVE, BUREAU_CREDIT_ACTIVE_BAD DEBT, BUREAU_CREDIT_ACTIVE_CLOSED, BUREAU_CREDIT_ACTIVE_SOLD, BUREAU_CREDIT_CURRENCY_CURRENCY 1, BUREAU_CREDIT_CURRENCY_CURRENCY 2, BUREAU_CREDIT_CURRENCY_CURRENCY 3, BUREAU_CREDIT_CURRENCY_CURRENCY 4, BUREAU_CREDIT_TYPE_ANOTHER TYPE OF LOAN, BUREAU_CREDIT_TYPE_CAR LOAN, BUREAU_CREDIT_TYPE_CASH LOAN (NON-EARMARKED), BUREAU_CREDIT_TYPE_CONSUMER CREDIT, BUREAU_CREDIT_TYPE_CREDIT CARD, BUREAU_CREDIT_TYPE_INTERBANK CREDIT, BUREAU_CREDIT_TYPE_LOAN FOR BUSINESS DEVELOPMENT, BUREAU_CREDIT_TYPE_LOAN FOR PURCHASE OF SHARES (MARGIN LENDING), BUREAU_CREDIT_TYPE_LOAN FOR THE PURCHASE OF EQUIPMENT, BUREAU_CREDIT_TYPE_LOAN FOR WORKING CAPITAL REPLENISHMENT, BUREAU_CREDIT_TYPE_MICROLOAN, BUREAU_CREDIT_TYPE_MOBILE OPERATOR LOAN, BUREAU_CREDIT_TYPE_MORTGAGE, BUREAU_CREDIT_TYPE_REAL ESTATE LOAN, BUREAU_CREDIT_TYPE_UNKNOWN TYPE OF LOAN]\n",
            "Index: []\n"
          ]
        }
      ],
      "source": [
        "bcat_pivot = b_pivot.merge(cat_pivot, on='SK_ID_CURR', how='left')\n",
        "print(bcat_pivot[bcat_pivot['SK_ID_CURR'].duplicated()])"
      ]
    },
    {
      "cell_type": "code",
      "execution_count": null,
      "id": "w6gCbMioDVm6",
      "metadata": {
        "id": "w6gCbMioDVm6",
        "colab": {
          "base_uri": "https://localhost:8080/"
        },
        "outputId": "90b13485-4bce-4dcb-c2b4-15cd802482b0"
      },
      "outputs": [
        {
          "output_type": "stream",
          "name": "stdout",
          "text": [
            "Empty DataFrame\n",
            "Columns: [SK_ID_BUREAU, MONTHS_BALANCE]\n",
            "Index: []\n"
          ]
        }
      ],
      "source": [
        "bb_pivot = pd.pivot_table(\n",
        "    bureau_balance,\n",
        "    values='MONTHS_BALANCE',\n",
        "    index='SK_ID_BUREAU',\n",
        "    aggfunc='median'\n",
        ")\n",
        "\n",
        "bb_pivot = bb_pivot.reset_index()\n",
        "print(bb_pivot[bb_pivot['SK_ID_BUREAU'].duplicated()])"
      ]
    },
    {
      "cell_type": "code",
      "execution_count": null,
      "id": "4QRqCMeID4Px",
      "metadata": {
        "id": "4QRqCMeID4Px",
        "colab": {
          "base_uri": "https://localhost:8080/"
        },
        "outputId": "02d6cf0a-9ec6-452b-ef8c-fa2a4d65ab6f"
      },
      "outputs": [
        {
          "output_type": "stream",
          "name": "stdout",
          "text": [
            "Empty DataFrame\n",
            "Columns: [SK_ID_CURR_, median_AMT_BALANCE, median_MONTHS_BALANCE, sum_AMT_BALANCE, sum_MONTHS_BALANCE]\n",
            "Index: []\n"
          ]
        }
      ],
      "source": [
        "cc_pivot = pd.pivot_table(\n",
        "    credit_card_balance,\n",
        "    values=['MONTHS_BALANCE','AMT_BALANCE'],\n",
        "    index=['SK_ID_CURR'],\n",
        "    aggfunc=['median','sum']\n",
        ")\n",
        "\n",
        "cc_pivot = cc_pivot.reset_index()\n",
        "\n",
        "cc_pivot.columns = ['_'.join(col).strip() if isinstance(col, tuple) else col for col in cc_pivot.columns]\n",
        "print(cc_pivot[cc_pivot['SK_ID_CURR_'].duplicated()])"
      ]
    },
    {
      "cell_type": "code",
      "execution_count": null,
      "id": "gKsBIhkuEJct",
      "metadata": {
        "id": "gKsBIhkuEJct",
        "colab": {
          "base_uri": "https://localhost:8080/"
        },
        "outputId": "8671875d-a3e5-4524-e521-90d7092cb6a8"
      },
      "outputs": [
        {
          "output_type": "stream",
          "name": "stderr",
          "text": [
            "<ipython-input-11-39d2460ef1c7>:5: FutureWarning: Downcasting behavior in `replace` is deprecated and will be removed in a future version. To retain the old behavior, explicitly call `result.infer_objects(copy=False)`. To opt-in to the future behavior, set `pd.set_option('future.no_silent_downcasting', True)`\n",
            "  .replace({True: 1, False: -1})\n"
          ]
        }
      ],
      "source": [
        "installments_payments2 = installments_payments.copy(deep=True)\n",
        "\n",
        "installments_payments2['PAID_COMPLETE'] = (\n",
        "    (installments_payments2['AMT_PAYMENT'].fillna(0) >= installments_payments2['AMT_INSTALMENT'].fillna(0) * 0.9)\n",
        "    .replace({True: 1, False: -1})\n",
        ")\n",
        "\n",
        "installments_payments2['PAID_ONTIME'] = (\n",
        "    (installments_payments2['DAYS_ENTRY_PAYMENT'].fillna(0) <= installments_payments2['DAYS_INSTALMENT'].fillna(0))\n",
        ").astype(int)\n",
        "\n",
        "installments_payments2['PAID_ONTIME_WEIGHTED'] = (\n",
        "    abs(installments_payments2['PAID_ONTIME'].fillna(0) / installments_payments2['DAYS_INSTALMENT'].fillna(0.01))\n",
        ").astype(float)\n",
        "\n",
        "installments_payments2['PAID_COMPLETE_WEIGHTED'] = (\n",
        "    installments_payments2['AMT_PAYMENT'].fillna(0) * installments_payments2['PAID_COMPLETE']\n",
        ").astype(float)"
      ]
    },
    {
      "cell_type": "code",
      "execution_count": null,
      "id": "K8NS0mYgEOIU",
      "metadata": {
        "id": "K8NS0mYgEOIU",
        "colab": {
          "base_uri": "https://localhost:8080/"
        },
        "outputId": "7201c11d-c1cf-4337-ba13-08b29555f1d3"
      },
      "outputs": [
        {
          "output_type": "stream",
          "name": "stdout",
          "text": [
            "Empty DataFrame\n",
            "Columns: [SK_ID_CURR_, sum_PAID_COMPLETE_WEIGHTED, sum_PAID_ONTIME_WEIGHTED]\n",
            "Index: []\n"
          ]
        }
      ],
      "source": [
        "ip_pivot = pd.pivot_table(\n",
        "    installments_payments2,\n",
        "    values=['PAID_ONTIME_WEIGHTED','PAID_COMPLETE_WEIGHTED'],\n",
        "    index=['SK_ID_CURR'],\n",
        "    aggfunc=['sum']\n",
        ")\n",
        "\n",
        "ip_pivot = ip_pivot.reset_index()\n",
        "\n",
        "ip_pivot.columns = ['_'.join(col).strip() if isinstance(col, tuple) else col for col in ip_pivot.columns]\n",
        "print(ip_pivot[ip_pivot['SK_ID_CURR_'].duplicated()])"
      ]
    },
    {
      "cell_type": "code",
      "execution_count": null,
      "id": "LVXrB8aUEMpA",
      "metadata": {
        "id": "LVXrB8aUEMpA",
        "colab": {
          "base_uri": "https://localhost:8080/"
        },
        "outputId": "3f63261d-ff87-4b16-8c8c-fc67310f8eb1"
      },
      "outputs": [
        {
          "output_type": "stream",
          "name": "stdout",
          "text": [
            "Empty DataFrame\n",
            "Columns: [SK_ID_CURR_, sum_SK_DPD, sum_SK_DPD_DEF]\n",
            "Index: []\n"
          ]
        }
      ],
      "source": [
        "pa1_pivot = pd.pivot_table(\n",
        "    POS_CASH_balance,\n",
        "    values=['SK_DPD','SK_DPD_DEF'],\n",
        "    index=['SK_ID_CURR'],\n",
        "    aggfunc=['sum']\n",
        ")\n",
        "\n",
        "pa1_pivot = pa1_pivot.reset_index()\n",
        "\n",
        "pa1_pivot.columns = ['_'.join(col).strip() if isinstance(col, tuple) else col for col in pa1_pivot.columns]\n",
        "print(pa1_pivot[pa1_pivot['SK_ID_CURR_'].duplicated()])"
      ]
    },
    {
      "cell_type": "code",
      "execution_count": null,
      "id": "xleDOr4zBY3l",
      "metadata": {
        "id": "xleDOr4zBY3l",
        "colab": {
          "base_uri": "https://localhost:8080/"
        },
        "outputId": "d6d79b95-7d06-4fc6-aff4-d363197a0b43"
      },
      "outputs": [
        {
          "output_type": "stream",
          "name": "stdout",
          "text": [
            "Empty DataFrame\n",
            "Columns: [SK_ID_CURR_, SK_ID_PREV_Active, SK_ID_PREV_Amortized debt, SK_ID_PREV_Approved, SK_ID_PREV_Canceled, SK_ID_PREV_Completed, SK_ID_PREV_Demand, SK_ID_PREV_Returned to the store, SK_ID_PREV_Signed, SK_ID_PREV_XNA]\n",
            "Index: []\n"
          ]
        }
      ],
      "source": [
        "pa2_pivot = pd.pivot_table(\n",
        "    POS_CASH_balance,\n",
        "    index=['SK_ID_CURR'],\n",
        "    columns=['NAME_CONTRACT_STATUS'],\n",
        "    aggfunc='count'  # or mean, count, etc.\n",
        ")\n",
        "\n",
        "pa2_pivot = pa2_pivot.reset_index()\n",
        "\n",
        "pa2_pivot.columns = ['_'.join(col).strip() if isinstance(col, tuple) else col for col in pa2_pivot.columns]\n",
        "pa2_pivot = pa2_pivot[['SK_ID_CURR_','SK_ID_PREV_Active', 'SK_ID_PREV_Amortized debt', 'SK_ID_PREV_Approved',\n",
        "                       'SK_ID_PREV_Canceled', 'SK_ID_PREV_Completed', 'SK_ID_PREV_Demand',\n",
        "                       'SK_ID_PREV_Returned to the store', 'SK_ID_PREV_Signed', 'SK_ID_PREV_XNA']].fillna(0)\n",
        "print(pa2_pivot[pa2_pivot['SK_ID_CURR_'].duplicated()])"
      ]
    },
    {
      "cell_type": "code",
      "execution_count": null,
      "id": "nE_pFX1dB_rL",
      "metadata": {
        "id": "nE_pFX1dB_rL",
        "colab": {
          "base_uri": "https://localhost:8080/"
        },
        "outputId": "8899245b-3737-4863-ea60-7d183d6d836c"
      },
      "outputs": [
        {
          "output_type": "stream",
          "name": "stdout",
          "text": [
            "Empty DataFrame\n",
            "Columns: [SK_ID_CURR, PREV_SK_ID_PREV_COUNT, PREV_IS_APPROVED_MEAN, PREV_IS_REFUSED_MEAN, PREV_AMT_APPLICATION_MEAN, PREV_AMT_APPLICATION_MAX, PREV_AMT_APPLICATION_MIN, PREV_AMT_CREDIT_MEAN, PREV_AMT_CREDIT_MAX, PREV_AMT_CREDIT_MIN, PREV_APP_CREDIT_RATIO_MEAN, PREV_APP_CREDIT_RATIO_STD, PREV_CNT_PAYMENT_MEAN, PREV_CNT_PAYMENT_STD, PREV_DAYS_DECISION_MIN, PREV_DAYS_DECISION_MAX, PREV_DAYS_TERMINATION_MEAN, PREV_DAYS_LAST_DUE_MEAN, PREV_DAYS_FIRST_DRAWING_MEAN]\n",
            "Index: []\n"
          ]
        }
      ],
      "source": [
        "# Load previous application data\n",
        "previous_df = pd.read_csv('previous_application.csv')\n",
        "\n",
        "# Fill missing values in key numeric columns\n",
        "previous_df['AMT_APPLICATION'] = previous_df['AMT_APPLICATION'].fillna(0)\n",
        "previous_df['AMT_CREDIT'] = previous_df['AMT_CREDIT'].fillna(0)\n",
        "\n",
        "# Create ratio features\n",
        "previous_df['APP_CREDIT_RATIO'] = previous_df['AMT_APPLICATION'] / previous_df['AMT_CREDIT']\n",
        "previous_df['APP_CREDIT_RATIO'] = previous_df['APP_CREDIT_RATIO'].replace([np.inf, -np.inf], np.nan).fillna(0)\n",
        "\n",
        "# Create boolean for approved and refused applications\n",
        "previous_df['IS_APPROVED'] = (previous_df['NAME_CONTRACT_STATUS'] == 'Approved').astype(int)\n",
        "previous_df['IS_REFUSED'] = (previous_df['NAME_CONTRACT_STATUS'] == 'Refused').astype(int)\n",
        "\n",
        "# Group by SK_ID_CURR to create features\n",
        "prev_pivot = previous_df.groupby('SK_ID_CURR').agg({\n",
        "    'SK_ID_PREV': 'count',  # Number of previous applications\n",
        "    'IS_APPROVED': 'mean',\n",
        "    'IS_REFUSED': 'mean',\n",
        "    'AMT_APPLICATION': ['mean', 'max', 'min'],\n",
        "    'AMT_CREDIT': ['mean', 'max', 'min'],\n",
        "    'APP_CREDIT_RATIO': ['mean', 'std'],\n",
        "    'CNT_PAYMENT': ['mean', 'std'],\n",
        "    'DAYS_DECISION': ['min', 'max'],\n",
        "    'DAYS_TERMINATION': ['mean'],\n",
        "    'DAYS_LAST_DUE': ['mean'],\n",
        "    'DAYS_FIRST_DRAWING': ['mean']\n",
        "})\n",
        "\n",
        "# Flatten MultiIndex columns\n",
        "prev_pivot.columns = ['PREV_' + '_'.join(col).upper() for col in prev_pivot.columns]\n",
        "\n",
        "# Reset index to make SK_ID_CURR a column\n",
        "prev_pivot = prev_pivot.reset_index()\n",
        "print(prev_pivot[prev_pivot['SK_ID_CURR'].duplicated()])"
      ]
    },
    {
      "cell_type": "code",
      "execution_count": null,
      "id": "Y3CjuvVTRqJv",
      "metadata": {
        "id": "Y3CjuvVTRqJv"
      },
      "outputs": [],
      "source": [
        "# JOINING WITH MAIN DATAFRAME\n",
        "cc_pivot.rename(columns={'SK_ID_CURR_': 'SK_ID_CURR'}, inplace=True)\n",
        "ip_pivot.rename(columns={'SK_ID_CURR_': 'SK_ID_CURR'}, inplace=True)\n",
        "pa1_pivot.rename(columns={'SK_ID_CURR_': 'SK_ID_CURR'}, inplace=True)\n",
        "pa2_pivot.rename(columns={'SK_ID_CURR_': 'SK_ID_CURR'}, inplace=True)\n",
        "prev_pivot.rename(columns={'SK_ID_CURR_': 'SK_ID_CURR'}, inplace=True)\n",
        "bb_pivot.rename(columns={'SK_ID_BUREAU': 'SK_ID_CURR'}, inplace=True)  # Assuming aggregation done at SK_ID_CURR\n",
        "\n",
        "# Merge all datasets on SK_ID_CURR\n",
        "application_full = application_train.copy(deep=True)\n",
        "application_full = application_full.merge(bcat_pivot, on='SK_ID_CURR', how='left')\n",
        "application_full = application_full.merge(bb_pivot, on='SK_ID_CURR', how='left')\n",
        "application_full = application_full.merge(cc_pivot, on='SK_ID_CURR', how='left')\n",
        "application_full = application_full.merge(ip_pivot, on='SK_ID_CURR', how='left')\n",
        "application_full = application_full.merge(pa1_pivot, on='SK_ID_CURR', how='left')\n",
        "application_full = application_full.merge(pa2_pivot, on='SK_ID_CURR', how='left')\n",
        "application_full = application_full.merge(prev_pivot, on='SK_ID_CURR', how='left')"
      ]
    },
    {
      "cell_type": "code",
      "execution_count": null,
      "id": "rpEtof6mPlgE",
      "metadata": {
        "id": "rpEtof6mPlgE"
      },
      "outputs": [],
      "source": [
        "# Merge all datasets on SK_ID_CURR\n",
        "application_full_test = application_test.copy(deep=True)\n",
        "application_full_test = application_full_test.merge(bcat_pivot, on='SK_ID_CURR', how='left')\n",
        "application_full_test = application_full_test.merge(bb_pivot, on='SK_ID_CURR', how='left')\n",
        "application_full_test = application_full_test.merge(cc_pivot, on='SK_ID_CURR', how='left')\n",
        "application_full_test = application_full_test.merge(ip_pivot, on='SK_ID_CURR', how='left')\n",
        "application_full_test = application_full_test.merge(pa1_pivot, on='SK_ID_CURR', how='left')\n",
        "application_full_test = application_full_test.merge(pa2_pivot, on='SK_ID_CURR', how='left')\n",
        "application_full_test = application_full_test.merge(prev_pivot, on='SK_ID_CURR', how='left')"
      ]
    },
    {
      "cell_type": "code",
      "execution_count": null,
      "id": "4a167c93",
      "metadata": {
        "id": "4a167c93"
      },
      "outputs": [],
      "source": [
        "application_full = application_full.set_index('SK_ID_CURR').apply(lambda col: col.astype('object') if col.dtype == 'category' else col)\n",
        "application_full_test = application_full_test.set_index('SK_ID_CURR').apply(lambda col: col.astype('object') if col.dtype == 'category' else col)"
      ]
    },
    {
      "cell_type": "code",
      "execution_count": null,
      "id": "1d38cb4c",
      "metadata": {
        "id": "1d38cb4c"
      },
      "outputs": [],
      "source": [
        "application_categorized2 = application_full.copy()\n",
        "application_categorized2_test = application_full_test.copy()"
      ]
    },
    {
      "cell_type": "code",
      "execution_count": null,
      "id": "iJ6kdAlhUYFB",
      "metadata": {
        "id": "iJ6kdAlhUYFB",
        "colab": {
          "base_uri": "https://localhost:8080/"
        },
        "outputId": "11607c57-1c2c-4279-c6a6-afca7715ec85"
      },
      "outputs": [
        {
          "output_type": "stream",
          "name": "stdout",
          "text": [
            "['TARGET']\n",
            "[]\n"
          ]
        }
      ],
      "source": [
        "a=list(application_full.columns)\n",
        "b=list(application_full_test.columns)\n",
        "print([item for item in a if item not in b])\n",
        "print([item for item in b if item not in a])"
      ]
    },
    {
      "cell_type": "code",
      "execution_count": null,
      "id": "128833fb-5de0-4fba-9c82-b827cc808726",
      "metadata": {
        "id": "128833fb-5de0-4fba-9c82-b827cc808726"
      },
      "outputs": [],
      "source": [
        "binary_columns = ['FLAG_OWN_CAR', 'FLAG_OWN_REALTY']\n",
        "\n",
        "for col in binary_columns:\n",
        "    application_categorized2.loc[:,col] = application_categorized2[col].map({'Y': 1, 'N': 0})\n",
        "    application_categorized2_test.loc[:,col] = application_categorized2_test[col].map({'Y': 1, 'N': 0})"
      ]
    },
    {
      "cell_type": "code",
      "execution_count": null,
      "id": "JQgJO8Szlz9u",
      "metadata": {
        "id": "JQgJO8Szlz9u",
        "colab": {
          "base_uri": "https://localhost:8080/"
        },
        "outputId": "e8128b90-2d4d-4cc8-dc71-d2966291b27d"
      },
      "outputs": [
        {
          "output_type": "stream",
          "name": "stdout",
          "text": [
            "['TARGET']\n",
            "[]\n"
          ]
        }
      ],
      "source": [
        "a=list(application_categorized2.columns)\n",
        "b=list(application_categorized2_test.columns)\n",
        "print([item for item in a if item not in b])\n",
        "print([item for item in b if item not in a])"
      ]
    },
    {
      "cell_type": "code",
      "execution_count": null,
      "id": "sFe9g2-sl7Y7",
      "metadata": {
        "id": "sFe9g2-sl7Y7"
      },
      "outputs": [],
      "source": [
        "education_order = {\n",
        "    'Higher education ': 3,\n",
        "    'Incomplete higher': 2,\n",
        "    'Secondary / secondary special': 1,\n",
        "    'Lower secondary ': 0\n",
        "}\n",
        "\n",
        "occupation_order = {\n",
        "    'Low-skill Laborers': 0,\n",
        "    'Cleaning staff': 1,\n",
        "    'Waiters/barmen staff': 2,\n",
        "    'Cooking staff': 3,\n",
        "    'Private service staff': 4,\n",
        "    'Laborers': 5,\n",
        "    'Security staff': 6,\n",
        "    'Drivers': 7,\n",
        "    'Sales staff': 8,\n",
        "    'Secretaries': 9,\n",
        "    'Core staff': 10,\n",
        "    'HR staff': 11,\n",
        "    'Realty agents': 12,\n",
        "    'Accountants': 13,\n",
        "    'IT staff': 14,\n",
        "    'Medicine staff': 15,\n",
        "    'High skill tech staff': 16,\n",
        "    'Managers': 17\n",
        "}\n",
        "\n",
        "application_categorized2.loc[:,'NAME_EDUCATION_TYPE'] = application_categorized2['NAME_EDUCATION_TYPE'].map(education_order)\n",
        "application_categorized2.loc[:,'OCCUPATION_TYPE'] = application_categorized2['OCCUPATION_TYPE'].map(occupation_order)\n",
        "application_categorized2_test.loc[:,'NAME_EDUCATION_TYPE'] = application_categorized2_test['NAME_EDUCATION_TYPE'].map(education_order)\n",
        "application_categorized2_test.loc[:,'OCCUPATION_TYPE'] = application_categorized2_test['OCCUPATION_TYPE'].map(occupation_order)"
      ]
    },
    {
      "cell_type": "code",
      "execution_count": null,
      "id": "F0isXxdCl9X-",
      "metadata": {
        "id": "F0isXxdCl9X-",
        "colab": {
          "base_uri": "https://localhost:8080/"
        },
        "outputId": "07f4dbff-7c16-42f1-ec78-1809a9507266"
      },
      "outputs": [
        {
          "output_type": "stream",
          "name": "stdout",
          "text": [
            "['TARGET']\n",
            "[]\n"
          ]
        }
      ],
      "source": [
        "a=list(application_categorized2.columns)\n",
        "b=list(application_categorized2_test.columns)\n",
        "print([item for item in a if item not in b])\n",
        "print([item for item in b if item not in a])"
      ]
    },
    {
      "cell_type": "code",
      "execution_count": null,
      "id": "rAmKCkW2mBY9",
      "metadata": {
        "id": "rAmKCkW2mBY9"
      },
      "outputs": [],
      "source": [
        "# Label encode high-cardinality columns\n",
        "label_encode_columns = ['OCCUPATION_TYPE', 'ORGANIZATION_TYPE']\n",
        "\n",
        "for col in label_encode_columns:\n",
        "    if col in application_categorized2.columns:\n",
        "        le = LabelEncoder()\n",
        "        application_categorized2.loc[:,col] = le.fit_transform(application_categorized2[col].astype(str))\n",
        "        application_categorized2_test.loc[:,col] = le.fit_transform(application_categorized2_test[col].astype(str))"
      ]
    },
    {
      "cell_type": "code",
      "execution_count": null,
      "id": "nj6ZfoWymCbW",
      "metadata": {
        "id": "nj6ZfoWymCbW",
        "colab": {
          "base_uri": "https://localhost:8080/"
        },
        "outputId": "e8d2e299-be7c-4180-889d-3bd0d7153847"
      },
      "outputs": [
        {
          "output_type": "stream",
          "name": "stdout",
          "text": [
            "['TARGET']\n",
            "[]\n"
          ]
        }
      ],
      "source": [
        "a=list(application_categorized2.columns)\n",
        "b=list(application_categorized2_test.columns)\n",
        "print([item for item in a if item not in b])\n",
        "print([item for item in b if item not in a])"
      ]
    },
    {
      "cell_type": "code",
      "execution_count": null,
      "id": "527921de-ad5c-4039-b063-90c859badcd7",
      "metadata": {
        "id": "527921de-ad5c-4039-b063-90c859badcd7"
      },
      "outputs": [],
      "source": [
        "one_hot_columns = [\n",
        "    'NAME_CONTRACT_TYPE', 'NAME_TYPE_SUITE', 'NAME_INCOME_TYPE', 'NAME_FAMILY_STATUS',\n",
        "    'NAME_HOUSING_TYPE', 'WEEKDAY_APPR_PROCESS_START', 'FONDKAPREMONT_MODE',\n",
        "    'HOUSETYPE_MODE', 'WALLSMATERIAL_MODE', 'EMERGENCYSTATE_MODE', 'CREDIT_ACTIVE',\n",
        "    'CREDIT_CURRENCY', 'CREDIT_TYPE'\n",
        "]\n",
        "\n",
        "application_categorized2 = pd.get_dummies(application_categorized2, drop_first=True)\n",
        "application_categorized2_test = pd.get_dummies(application_categorized2_test, drop_first=True)"
      ]
    },
    {
      "cell_type": "code",
      "execution_count": null,
      "id": "piTN3QdOk1iw",
      "metadata": {
        "id": "piTN3QdOk1iw",
        "colab": {
          "base_uri": "https://localhost:8080/"
        },
        "outputId": "b44c05dd-253e-49f6-961e-7cf64a8f6b16"
      },
      "outputs": [
        {
          "output_type": "stream",
          "name": "stdout",
          "text": [
            "['TARGET', 'CODE_GENDER_XNA', 'NAME_INCOME_TYPE_Maternity leave', 'NAME_FAMILY_STATUS_Unknown']\n",
            "[]\n"
          ]
        }
      ],
      "source": [
        "a=list(application_categorized2.columns)\n",
        "b=list(application_categorized2_test.columns)\n",
        "print([item for item in a if item not in b])\n",
        "print([item for item in b if item not in a])"
      ]
    },
    {
      "cell_type": "code",
      "execution_count": null,
      "id": "DSThJJwcmN8c",
      "metadata": {
        "id": "DSThJJwcmN8c"
      },
      "outputs": [],
      "source": [
        "application_categorized2=application_categorized2.drop(['CODE_GENDER_XNA', 'NAME_INCOME_TYPE_Maternity leave', 'NAME_FAMILY_STATUS_Unknown'],axis=1)"
      ]
    },
    {
      "cell_type": "code",
      "execution_count": null,
      "id": "jvsuDYhDrW65",
      "metadata": {
        "collapsed": true,
        "id": "jvsuDYhDrW65",
        "colab": {
          "base_uri": "https://localhost:8080/",
          "height": 178
        },
        "outputId": "78fd5819-611a-4bac-edec-83c0746c2a88"
      },
      "outputs": [
        {
          "output_type": "execute_result",
          "data": {
            "text/plain": [
              "TARGET\n",
              "0    282686\n",
              "1     24825\n",
              "Name: count, dtype: int64"
            ],
            "text/html": [
              "<div>\n",
              "<style scoped>\n",
              "    .dataframe tbody tr th:only-of-type {\n",
              "        vertical-align: middle;\n",
              "    }\n",
              "\n",
              "    .dataframe tbody tr th {\n",
              "        vertical-align: top;\n",
              "    }\n",
              "\n",
              "    .dataframe thead th {\n",
              "        text-align: right;\n",
              "    }\n",
              "</style>\n",
              "<table border=\"1\" class=\"dataframe\">\n",
              "  <thead>\n",
              "    <tr style=\"text-align: right;\">\n",
              "      <th></th>\n",
              "      <th>count</th>\n",
              "    </tr>\n",
              "    <tr>\n",
              "      <th>TARGET</th>\n",
              "      <th></th>\n",
              "    </tr>\n",
              "  </thead>\n",
              "  <tbody>\n",
              "    <tr>\n",
              "      <th>0</th>\n",
              "      <td>282686</td>\n",
              "    </tr>\n",
              "    <tr>\n",
              "      <th>1</th>\n",
              "      <td>24825</td>\n",
              "    </tr>\n",
              "  </tbody>\n",
              "</table>\n",
              "</div><br><label><b>dtype:</b> int64</label>"
            ]
          },
          "metadata": {},
          "execution_count": 30
        }
      ],
      "source": [
        "features = application_categorized2.drop(columns=['TARGET'], errors='ignore')\n",
        "target = application_categorized2['TARGET']\n",
        "target.value_counts()"
      ]
    },
    {
      "cell_type": "markdown",
      "id": "Ihaum6ws1WWA",
      "metadata": {
        "id": "Ihaum6ws1WWA"
      },
      "source": [
        "## Undersampling"
      ]
    },
    {
      "cell_type": "code",
      "execution_count": null,
      "id": "P2bgmhm3SgWX",
      "metadata": {
        "id": "P2bgmhm3SgWX"
      },
      "outputs": [],
      "source": [
        "from imblearn.under_sampling import RandomUnderSampler\n",
        "\n",
        "rus = RandomUnderSampler(random_state=42)\n",
        "X, y = rus.fit_resample(features, target)"
      ]
    },
    {
      "cell_type": "markdown",
      "source": [
        "## Normalization"
      ],
      "metadata": {
        "id": "Q2LpZJfq_WOT"
      },
      "id": "Q2LpZJfq_WOT"
    },
    {
      "cell_type": "code",
      "execution_count": null,
      "id": "joa6X8ZKRC-u",
      "metadata": {
        "id": "joa6X8ZKRC-u",
        "colab": {
          "base_uri": "https://localhost:8080/"
        },
        "outputId": "8d744e9c-18ee-4dfa-e6e3-6d3bd8d17634"
      },
      "outputs": [
        {
          "output_type": "stream",
          "name": "stderr",
          "text": [
            "/usr/local/lib/python3.11/dist-packages/sklearn/utils/extmath.py:1101: RuntimeWarning: invalid value encountered in divide\n",
            "  updated_mean = (last_sum + new_sum) / updated_sample_count\n",
            "/usr/local/lib/python3.11/dist-packages/sklearn/utils/extmath.py:1106: RuntimeWarning: invalid value encountered in divide\n",
            "  T = new_sum / new_sample_count\n",
            "/usr/local/lib/python3.11/dist-packages/sklearn/utils/extmath.py:1126: RuntimeWarning: invalid value encountered in divide\n",
            "  new_unnormalized_variance -= correction**2 / new_sample_count\n"
          ]
        }
      ],
      "source": [
        "from sklearn.preprocessing import StandardScaler\n",
        "\n",
        "scaler = StandardScaler()\n",
        "scaled_array = scaler.fit_transform(X)\n",
        "\n",
        "scaled_df = pd.DataFrame(scaled_array, columns=X.columns, index=X.index)"
      ]
    },
    {
      "cell_type": "markdown",
      "source": [
        "## Train Test Split"
      ],
      "metadata": {
        "id": "8nZj_57x_Zkw"
      },
      "id": "8nZj_57x_Zkw"
    },
    {
      "cell_type": "code",
      "execution_count": null,
      "id": "-MAEXcTKQLvl",
      "metadata": {
        "id": "-MAEXcTKQLvl"
      },
      "outputs": [],
      "source": [
        "from sklearn.model_selection import train_test_split\n",
        "\n",
        "# Train/test split\n",
        "X_train, X_test, y_train, y_test = train_test_split(scaled_df, y, test_size=0.2, stratify=y)"
      ]
    },
    {
      "cell_type": "markdown",
      "id": "u5oj1pPU1twH",
      "metadata": {
        "id": "u5oj1pPU1twH"
      },
      "source": [
        "# Initial Model Fit"
      ]
    },
    {
      "cell_type": "code",
      "execution_count": null,
      "id": "RKo2zS--qaQi",
      "metadata": {
        "id": "RKo2zS--qaQi",
        "colab": {
          "base_uri": "https://localhost:8080/"
        },
        "outputId": "1be2115f-3fd9-460e-e6af-b5d2e9b2d4c7"
      },
      "outputs": [
        {
          "output_type": "stream",
          "name": "stdout",
          "text": [
            "ROC AUC: 0.6987915407854985\n",
            "Accuracy: 0.6987915407854985\n",
            "Precision: 0.7010183299389002\n",
            "Recall: 0.6932527693856999\n",
            "F1 Score: 0.6971139240506329\n"
          ]
        }
      ],
      "source": [
        "from sklearn.metrics import roc_auc_score, accuracy_score, precision_score, recall_score, f1_score\n",
        "import xgboost as xgb\n",
        "\n",
        "\n",
        "# Create model with native categorical support\n",
        "model = xgb.XGBClassifier(\n",
        "    tree_method='hist',\n",
        "    eval_metric='logloss'\n",
        ")\n",
        "\n",
        "# Fit the model\n",
        "model.fit(X_train, y_train)\n",
        "y_pred = model.predict(X_test)\n",
        "\n",
        "print(\"ROC AUC:\", roc_auc_score(y_test, y_pred))\n",
        "print(\"Accuracy:\", accuracy_score(y_test, y_pred))\n",
        "print(\"Precision:\", precision_score(y_test, y_pred, zero_division=0))\n",
        "print(\"Recall:\", recall_score(y_test, y_pred, zero_division=0))\n",
        "print(\"F1 Score:\", f1_score(y_test, y_pred, zero_division=0))"
      ]
    },
    {
      "cell_type": "markdown",
      "id": "DfR30Fw01xO8",
      "metadata": {
        "id": "DfR30Fw01xO8"
      },
      "source": [
        "# Feature Selection"
      ]
    },
    {
      "cell_type": "code",
      "execution_count": null,
      "id": "OYqE89-pUe8s",
      "metadata": {
        "id": "OYqE89-pUe8s",
        "colab": {
          "base_uri": "https://localhost:8080/"
        },
        "outputId": "651d333c-2a4f-4bbb-ef4d-ad477054e4da"
      },
      "outputs": [
        {
          "output_type": "stream",
          "name": "stdout",
          "text": [
            "313\n"
          ]
        }
      ],
      "source": [
        "X_train = pd.DataFrame(X_train)\n",
        "X_test = pd.DataFrame(X_test)\n",
        "print(len(X_train.columns))"
      ]
    },
    {
      "cell_type": "code",
      "execution_count": null,
      "id": "CoZMEO4qxYSB",
      "metadata": {
        "id": "CoZMEO4qxYSB",
        "colab": {
          "base_uri": "https://localhost:8080/"
        },
        "outputId": "c9ed835c-1ecf-475d-fe67-acc82017dcb1"
      },
      "outputs": [
        {
          "output_type": "stream",
          "name": "stderr",
          "text": [
            "100%|===================| 39680/39720 [03:16<00:00]       "
          ]
        }
      ],
      "source": [
        "X_trainb = X_train.astype({col: 'int' for col in X_train.select_dtypes(bool).columns})\n",
        "X_test = X_test.astype({col: 'int' for col in X_test.select_dtypes(bool).columns})\n",
        "\n",
        "import shap\n",
        "explainer = shap.Explainer(model, X_trainb)\n",
        "shap_values = explainer(X_trainb)\n",
        "\n",
        "# Get mean absolute SHAP values per featureb\n",
        "shap_importance = np.abs(shap_values.values).mean(axis=0)\n",
        "feature_importance = pd.Series(shap_importance, index=X_trainb.columns).sort_values(ascending=False)"
      ]
    },
    {
      "cell_type": "markdown",
      "id": "h5anZfLj17VG",
      "metadata": {
        "id": "h5anZfLj17VG"
      },
      "source": [
        "Drop Highly Correlated Features with Low Shap"
      ]
    },
    {
      "cell_type": "code",
      "execution_count": null,
      "id": "AMMPrvJj9gN9",
      "metadata": {
        "id": "AMMPrvJj9gN9"
      },
      "outputs": [],
      "source": [
        "def drop_correlated_by_shap(df, shap_importance, threshold=0.9):\n",
        "\n",
        "    corr_matrix = df.corr().abs()\n",
        "    columns = set(df.columns)\n",
        "    to_drop = set()\n",
        "\n",
        "    # Work on a copy to avoid modifying original\n",
        "    remaining = set(columns)\n",
        "\n",
        "    while True:\n",
        "        # Get correlated pairs above threshold\n",
        "        correlated_pairs = [\n",
        "            (i, j)\n",
        "            for i in remaining\n",
        "            for j in remaining\n",
        "            if i != j and corr_matrix.loc[i, j] > threshold\n",
        "        ]\n",
        "        if not correlated_pairs:\n",
        "            break\n",
        "\n",
        "        # Group correlated features\n",
        "        groups = []\n",
        "        seen = set()\n",
        "        for i, j in correlated_pairs:\n",
        "            if i not in seen and j not in seen:\n",
        "                group = {i, j}\n",
        "                for a, b in correlated_pairs:\n",
        "                    if a in group or b in group:\n",
        "                        group.update([a, b])\n",
        "                groups.append(group)\n",
        "                seen.update(group)\n",
        "\n",
        "        for group in groups:\n",
        "            # From group, keep feature with highest SHAP importance\n",
        "            sorted_group = sorted(\n",
        "                group,\n",
        "                key=lambda x: shap_importance.get(x, 0),\n",
        "                reverse=True\n",
        "            )\n",
        "            keep = sorted_group[0]\n",
        "            drop = group - {keep}\n",
        "            to_drop.update(drop)\n",
        "            remaining -= drop\n",
        "\n",
        "        # Update remaining columns for next iteration\n",
        "        remaining -= to_drop\n",
        "\n",
        "    return list(columns - to_drop)\n",
        "\n",
        "# Get final feature list\n",
        "selected_features = drop_correlated_by_shap(X_trainb, feature_importance, threshold=0.9)\n",
        "\n",
        "# Apply to data\n",
        "X_train_reduced = X_trainb[selected_features]\n",
        "X_test_reduced = X_test[selected_features]"
      ]
    },
    {
      "cell_type": "markdown",
      "id": "gRJJ6pig2B6S",
      "metadata": {
        "id": "gRJJ6pig2B6S"
      },
      "source": [
        "# Model Fit to Assess Improvement After Feature Selection"
      ]
    },
    {
      "cell_type": "code",
      "execution_count": null,
      "id": "7nKP7YwBUm-V",
      "metadata": {
        "id": "7nKP7YwBUm-V",
        "colab": {
          "base_uri": "https://localhost:8080/"
        },
        "outputId": "fb3259e2-469f-432d-bd39-3103accd029d"
      },
      "outputs": [
        {
          "output_type": "stream",
          "name": "stdout",
          "text": [
            "267\n"
          ]
        }
      ],
      "source": [
        "print(len(X_train_reduced.columns))"
      ]
    },
    {
      "cell_type": "code",
      "execution_count": null,
      "id": "ZeKZ_pIqNNqD",
      "metadata": {
        "id": "ZeKZ_pIqNNqD",
        "colab": {
          "base_uri": "https://localhost:8080/"
        },
        "outputId": "09a835fb-21ec-4d87-f63b-61071edda236"
      },
      "outputs": [
        {
          "output_type": "stream",
          "name": "stdout",
          "text": [
            "ROC AUC: 0.6987915407854985\n",
            "Accuracy: 0.6987915407854985\n",
            "Precision: 0.7010183299389002\n",
            "Recall: 0.6932527693856999\n",
            "F1 Score: 0.6971139240506329\n"
          ]
        }
      ],
      "source": [
        "# Create model with native categorical support\n",
        "model = xgb.XGBClassifier(\n",
        "    tree_method='hist',\n",
        "    eval_metric='logloss'\n",
        ")\n",
        "\n",
        "# Fit the model\n",
        "model.fit(X_train_reduced, y_train)\n",
        "y_pred_reduced = model.predict(X_test_reduced)\n",
        "\n",
        "print(\"ROC AUC:\", roc_auc_score(y_test, y_pred))\n",
        "print(\"Accuracy:\", accuracy_score(y_test, y_pred))\n",
        "print(\"Precision:\", precision_score(y_test, y_pred, zero_division=0))\n",
        "print(\"Recall:\", recall_score(y_test, y_pred, zero_division=0))\n",
        "print(\"F1 Score:\", f1_score(y_test, y_pred, zero_division=0))"
      ]
    },
    {
      "cell_type": "markdown",
      "id": "fSzFwYJN2GOZ",
      "metadata": {
        "id": "fSzFwYJN2GOZ"
      },
      "source": [
        "# XGBoost vs LightGBM"
      ]
    },
    {
      "cell_type": "markdown",
      "source": [
        "### For hyperparameter tuning\n",
        "- Grid Search for XGBoost\n",
        "- Optuna for LightGB"
      ],
      "metadata": {
        "id": "bcoIOfhO5ahb"
      },
      "id": "bcoIOfhO5ahb"
    },
    {
      "cell_type": "markdown",
      "id": "F4QoNPfW2IZo",
      "metadata": {
        "id": "F4QoNPfW2IZo"
      },
      "source": [
        "Model Fit using the best hyperparameters for XGBoost"
      ]
    },
    {
      "cell_type": "code",
      "execution_count": null,
      "id": "tiHcJLLWNNKv",
      "metadata": {
        "id": "tiHcJLLWNNKv",
        "colab": {
          "base_uri": "https://localhost:8080/"
        },
        "outputId": "ca3d0a64-000a-4cf3-d44f-1c758103e452"
      },
      "outputs": [
        {
          "output_type": "stream",
          "name": "stdout",
          "text": [
            "ROC AUC: 0.6987915407854985\n",
            "Accuracy: 0.6987915407854985\n",
            "Precision: 0.7010183299389002\n",
            "Recall: 0.6932527693856999\n",
            "F1 Score: 0.6971139240506329\n"
          ]
        }
      ],
      "source": [
        "model = xgb.XGBClassifier(\n",
        "    tree_method='hist',\n",
        "    eval_metric='logloss',\n",
        "    objective='binary:logistic',\n",
        "    max_depth=5,\n",
        "    learning_rate=0.1,\n",
        "    n_estimators=200\n",
        ")\n",
        "\n",
        "# Fit the model\n",
        "model.fit(X_train_reduced, y_train)\n",
        "y_pred_reduced = model.predict(X_test_reduced)\n",
        "\n",
        "print(\"ROC AUC:\", roc_auc_score(y_test, y_pred))\n",
        "print(\"Accuracy:\", accuracy_score(y_test, y_pred))\n",
        "print(\"Precision:\", precision_score(y_test, y_pred, zero_division=0))\n",
        "print(\"Recall:\", recall_score(y_test, y_pred, zero_division=0))\n",
        "print(\"F1 Score:\", f1_score(y_test, y_pred, zero_division=0))"
      ]
    },
    {
      "cell_type": "markdown",
      "id": "2bxE8oaG2MnE",
      "metadata": {
        "id": "2bxE8oaG2MnE"
      },
      "source": [
        "Model Fit using best hyperparameter for LightGBM"
      ]
    },
    {
      "cell_type": "code",
      "execution_count": null,
      "id": "H7rv8i7GWWO8",
      "metadata": {
        "id": "H7rv8i7GWWO8"
      },
      "outputs": [],
      "source": [
        "%%capture\n",
        "# Train LightGBM\n",
        "import lightgbm as lgb\n",
        "lgb_model = lgb.LGBMClassifier(\n",
        "    objective='binary',\n",
        "    metric='auc',\n",
        "    n_estimators=200,\n",
        "    learning_rate=0.1,\n",
        "    # max_depth=3,\n",
        "    num_leaves=54,\n",
        "    min_child_samples=83,\n",
        "    class_weight='balanced',  # good for imbalanced data\n",
        "\n",
        "    # Regularization\n",
        "    lambda_l1=6.272660493727634,               # L1 regularization\n",
        "    lambda_l2=0.005195334960259853,               # L2 regularization\n",
        "    min_gain_to_split=0.1,      # Don't split unless gain > 0.1\n",
        "\n",
        "    # Subsampling (stochastic training)\n",
        "    feature_fraction=0.6194868591098514,        # Randomly use 80% of features per tree\n",
        "    bagging_fraction=0.9038267401229967,        # Use 80% of data for each iteration\n",
        "    bagging_freq=4\n",
        ")\n",
        "\n",
        "# Sanitize feature names to remove special characters\n",
        "X_train_reduced1 = X_train_reduced.copy(deep=True)\n",
        "X_test_reduced1 = X_test_reduced.copy(deep=True)\n",
        "X_train_reduced1.columns = X_train_reduced.columns.str.replace(r'[^\\w]', '_', regex=True)\n",
        "X_test_reduced1.columns = X_test_reduced.columns.str.replace(r'[^\\w]', '_', regex=True)\n",
        "lgb_model.fit(X_train_reduced1, y_train)\n",
        "\n",
        "# Step 7: Predictions and evaluation\n",
        "y_pred = lgb_model.predict(X_test_reduced1)\n",
        "y_proba = lgb_model.predict_proba(X_test_reduced1)[:, 1]"
      ]
    },
    {
      "cell_type": "code",
      "source": [
        "print(\"ROC AUC Score:\", roc_auc_score(y_test, y_proba))\n",
        "print(\"F1 Score:\", f1_score(y_test, y_pred))\n",
        "print(\"Accuracy:\", accuracy_score(y_test, y_pred))\n",
        "print(\"Precision:\", precision_score(y_test, y_pred, zero_division=0))\n",
        "print(\"Recall:\", recall_score(y_test, y_pred, zero_division=0))"
      ],
      "metadata": {
        "id": "hFmdGITO5j-T",
        "colab": {
          "base_uri": "https://localhost:8080/"
        },
        "outputId": "cec4a903-078f-4906-f274-480cc1bdf457"
      },
      "id": "hFmdGITO5j-T",
      "execution_count": null,
      "outputs": [
        {
          "output_type": "stream",
          "name": "stdout",
          "text": [
            "ROC AUC Score: 0.7792342571210964\n",
            "F1 Score: 0.7087945260615818\n",
            "Accuracy: 0.7085599194360523\n",
            "Precision: 0.7082244118238488\n",
            "Recall: 0.7093655589123867\n"
          ]
        }
      ]
    },
    {
      "cell_type": "markdown",
      "id": "L2HJgqbWfxJR",
      "metadata": {
        "id": "L2HJgqbWfxJR"
      },
      "source": [
        "# Fairness"
      ]
    },
    {
      "cell_type": "markdown",
      "id": "Ny61yAMU2lK2",
      "metadata": {
        "id": "Ny61yAMU2lK2"
      },
      "source": [
        "### ROC AUC Per Gender\n",
        "- False : Female\n",
        "- True : Male"
      ]
    },
    {
      "cell_type": "markdown",
      "id": "yIN8-uh52x_y",
      "metadata": {
        "id": "yIN8-uh52x_y"
      },
      "source": [
        "### Calculate Model Fairness"
      ]
    },
    {
      "cell_type": "code",
      "execution_count": null,
      "id": "5hPQWWfJ3Pby",
      "metadata": {
        "id": "5hPQWWfJ3Pby"
      },
      "outputs": [],
      "source": [
        "from sklearn.metrics import confusion_matrix\n",
        "import numpy as np\n",
        "import pandas as pd\n",
        "\n",
        "def fairness_fpr_gap(y_true, y_pred, sensitive_features):\n",
        "    \"\"\"\n",
        "    Returns the FPR gap between sensitive groups (e.g., genders).\n",
        "\n",
        "    Parameters:\n",
        "        y_true: true labels (binary)\n",
        "        y_pred: predicted labels (binary)\n",
        "        sensitive_features: array-like, group labels (e.g., 'Male'/'Female')\n",
        "\n",
        "    Returns:\n",
        "        Dictionary with FPRs for each group and the FPR gap.\n",
        "    \"\"\"\n",
        "    df = pd.DataFrame({\n",
        "        'y_true': y_true,\n",
        "        'y_pred': y_pred,\n",
        "        'group': sensitive_features\n",
        "    })\n",
        "\n",
        "    fprs = {}\n",
        "    for group in df['group'].unique():\n",
        "        group_df = df[df['group'] == group]\n",
        "        tn, fp, fn, tp = confusion_matrix(group_df['y_true'], group_df['y_pred'], labels=[0, 1]).ravel()\n",
        "        fpr = fp / (fp + tn) if (fp + tn) > 0 else 0.0\n",
        "        fprs[group] = fpr\n",
        "\n",
        "    groups = list(fprs.keys())\n",
        "    fpr_gap = abs(fprs[groups[0]] - fprs[groups[1]]) if len(groups) == 2 else None\n",
        "\n",
        "    return {\n",
        "        'fpr_group_1': fprs[groups[0]],\n",
        "        'fpr_group_2': fprs[groups[1]],\n",
        "        'fpr_gap': fpr_gap\n",
        "    }"
      ]
    },
    {
      "cell_type": "code",
      "execution_count": null,
      "id": "lo9x2xD92w1S",
      "metadata": {
        "id": "lo9x2xD92w1S",
        "colab": {
          "base_uri": "https://localhost:8080/"
        },
        "outputId": "6ff0b096-b9af-4c0b-da75-de4b50b90626"
      },
      "outputs": [
        {
          "output_type": "stream",
          "name": "stdout",
          "text": [
            "fpr_gap: 0.12599373155126525\n"
          ]
        }
      ],
      "source": [
        "# Assuming binary predictions and gender labels\n",
        "gender_test = X_test_reduced1[\"CODE_GENDER_M\"]\n",
        "fairness_result = fairness_fpr_gap(y_test, y_pred, gender_test)\n",
        "\n",
        "print('fpr_gap:', fairness_result['fpr_gap'])\n",
        "# Output: {'fpr_group_1': 0.38, 'fpr_group_2': 0.25, 'fpr_gap': 0.13}"
      ]
    },
    {
      "cell_type": "code",
      "execution_count": null,
      "id": "jQFj90mS2Q7g",
      "metadata": {
        "id": "jQFj90mS2Q7g",
        "colab": {
          "base_uri": "https://localhost:8080/"
        },
        "outputId": "7570e42d-6054-40a3-9b1e-3fd020206770"
      },
      "outputs": [
        {
          "output_type": "stream",
          "name": "stdout",
          "text": [
            "Collecting fairlearn\n",
            "  Downloading fairlearn-0.12.0-py3-none-any.whl.metadata (7.0 kB)\n",
            "Requirement already satisfied: numpy>=1.24.4 in /usr/local/lib/python3.11/dist-packages (from fairlearn) (2.0.2)\n",
            "Requirement already satisfied: pandas>=2.0.3 in /usr/local/lib/python3.11/dist-packages (from fairlearn) (2.2.2)\n",
            "Requirement already satisfied: scikit-learn>=1.2.1 in /usr/local/lib/python3.11/dist-packages (from fairlearn) (1.6.1)\n",
            "Requirement already satisfied: scipy>=1.9.3 in /usr/local/lib/python3.11/dist-packages (from fairlearn) (1.15.3)\n",
            "Requirement already satisfied: python-dateutil>=2.8.2 in /usr/local/lib/python3.11/dist-packages (from pandas>=2.0.3->fairlearn) (2.9.0.post0)\n",
            "Requirement already satisfied: pytz>=2020.1 in /usr/local/lib/python3.11/dist-packages (from pandas>=2.0.3->fairlearn) (2025.2)\n",
            "Requirement already satisfied: tzdata>=2022.7 in /usr/local/lib/python3.11/dist-packages (from pandas>=2.0.3->fairlearn) (2025.2)\n",
            "Requirement already satisfied: joblib>=1.2.0 in /usr/local/lib/python3.11/dist-packages (from scikit-learn>=1.2.1->fairlearn) (1.5.0)\n",
            "Requirement already satisfied: threadpoolctl>=3.1.0 in /usr/local/lib/python3.11/dist-packages (from scikit-learn>=1.2.1->fairlearn) (3.6.0)\n",
            "Requirement already satisfied: six>=1.5 in /usr/local/lib/python3.11/dist-packages (from python-dateutil>=2.8.2->pandas>=2.0.3->fairlearn) (1.17.0)\n",
            "Downloading fairlearn-0.12.0-py3-none-any.whl (240 kB)\n",
            "\u001b[?25l   \u001b[90m━━━━━━━━━━━━━━━━━━━━━━━━━━━━━━━━━━━━━━━━\u001b[0m \u001b[32m0.0/240.0 kB\u001b[0m \u001b[31m?\u001b[0m eta \u001b[36m-:--:--\u001b[0m\r\u001b[2K   \u001b[91m━━━━━━━━━━━━━━━━━━━━━━━━━━━━━━━━━━━━━━━\u001b[0m\u001b[90m╺\u001b[0m \u001b[32m235.5/240.0 kB\u001b[0m \u001b[31m7.4 MB/s\u001b[0m eta \u001b[36m0:00:01\u001b[0m\r\u001b[2K   \u001b[90m━━━━━━━━━━━━━━━━━━━━━━━━━━━━━━━━━━━━━━━━\u001b[0m \u001b[32m240.0/240.0 kB\u001b[0m \u001b[31m6.0 MB/s\u001b[0m eta \u001b[36m0:00:00\u001b[0m\n",
            "\u001b[?25hInstalling collected packages: fairlearn\n",
            "Successfully installed fairlearn-0.12.0\n"
          ]
        }
      ],
      "source": [
        "pip install fairlearn"
      ]
    },
    {
      "cell_type": "markdown",
      "id": "Z1v-CrGA3pzE",
      "metadata": {
        "id": "Z1v-CrGA3pzE"
      },
      "source": [
        "## Re-train the LightGBM Model with Exponentiated Gradient for Fairness"
      ]
    },
    {
      "cell_type": "code",
      "execution_count": null,
      "id": "5UnNtewtXflX",
      "metadata": {
        "id": "5UnNtewtXflX"
      },
      "outputs": [],
      "source": [
        "%%capture\n",
        "from fairlearn.reductions import ExponentiatedGradient, EqualizedOdds\n",
        "from sklearn.metrics import roc_auc_score, f1_score\n",
        "\n",
        "# Sanitize feature names first (you already did this)\n",
        "X_train3 = X_train_reduced1.copy(deep=True)\n",
        "X_test3 = X_test_reduced1.copy(deep=True)\n",
        "X_train3.columns = X_train3.columns.str.replace(r'[^\\w]', '_', regex=True)\n",
        "X_test3.columns = X_test3.columns.str.replace(r'[^\\w]', '_', regex=True)\n",
        "\n",
        "# Initialize your LightGBM model (same as before)\n",
        "lgb_model = lgb.LGBMClassifier(\n",
        "    objective='binary',\n",
        "    metric='auc',\n",
        "    n_estimators=200,\n",
        "    learning_rate=0.1,\n",
        "    num_leaves=15,\n",
        "    min_child_samples=20,\n",
        "    class_weight='balanced',\n",
        "    lambda_l1=1,\n",
        "    lambda_l2=1,\n",
        "    min_gain_to_split=0.1,\n",
        "    feature_fraction=0.8,\n",
        "    bagging_fraction=0.8\n",
        ")\n",
        "\n",
        "# Wrap LightGBM with Fairlearn ExponentiatedGradient for Equalized Odds constraint\n",
        "mitigator = ExponentiatedGradient(\n",
        "    estimator=lgb_model,\n",
        "    constraints=EqualizedOdds()\n",
        ")\n",
        "\n",
        "# sensitive_features should be the protected attribute from your training data\n",
        "# Example: gender_train = X_train_balanced['CODE_GENDER_M'] (True/False or 'Male'/'Female')\n",
        "gender_train = X_train3['CODE_GENDER_M']\n",
        "\n",
        "# Fit the fair model\n",
        "mitigator.fit(X_train3, y_train, sensitive_features=gender_train)\n",
        "\n",
        "# Predict on test data\n",
        "y_pred = mitigator.predict(X_test3)"
      ]
    },
    {
      "cell_type": "code",
      "execution_count": null,
      "id": "gWJtqaOQXfw4",
      "metadata": {
        "id": "gWJtqaOQXfw4",
        "colab": {
          "base_uri": "https://localhost:8080/"
        },
        "outputId": "100c6d68-bc69-4109-d41e-c03c74b51ad4"
      },
      "outputs": [
        {
          "output_type": "stream",
          "name": "stdout",
          "text": [
            "Accuracy: 0.7103726082578047\n",
            "Precision: 0.7119091093528099\n",
            "Recall: 0.7067472306143001\n",
            "F1 Score: 0.709318779058015\n"
          ]
        }
      ],
      "source": [
        "# y_proba = mitigator.predict_proba(X_test3)[:, 1]\n",
        "# print(\"ROC AUC Score:\", roc_auc_score(y_test, y_proba))\n",
        "print(\"Accuracy:\", accuracy_score(y_test, y_pred))\n",
        "print(\"Precision:\", precision_score(y_test, y_pred, zero_division=0))\n",
        "print(\"Recall:\", recall_score(y_test, y_pred, zero_division=0))\n",
        "print(\"F1 Score:\", f1_score(y_test, y_pred, zero_division=0))"
      ]
    },
    {
      "cell_type": "code",
      "execution_count": null,
      "id": "NZaxZ3Uq4Yhr",
      "metadata": {
        "id": "NZaxZ3Uq4Yhr",
        "colab": {
          "base_uri": "https://localhost:8080/"
        },
        "outputId": "b9b903a4-b4e1-4b88-f9c3-f0a69d53eedb"
      },
      "outputs": [
        {
          "output_type": "stream",
          "name": "stdout",
          "text": [
            "fpr_gap: 0.029839420454220777\n"
          ]
        }
      ],
      "source": [
        "# Assuming binary predictions and gender labels\n",
        "gender_test = X_test_reduced1[\"CODE_GENDER_M\"]\n",
        "fairness_result = fairness_fpr_gap(y_test, y_pred, gender_test)\n",
        "\n",
        "print('fpr_gap:', fairness_result['fpr_gap'])\n",
        "# Output: {'fpr_group_1': 0.38, 'fpr_group_2': 0.25, 'fpr_gap': 0.13}"
      ]
    },
    {
      "cell_type": "markdown",
      "source": [
        "Prediction for the Competition"
      ],
      "metadata": {
        "id": "OsfyjLig3-kl"
      },
      "id": "OsfyjLig3-kl"
    },
    {
      "cell_type": "code",
      "execution_count": null,
      "id": "-SnhZFeu5IfA",
      "metadata": {
        "id": "-SnhZFeu5IfA",
        "colab": {
          "base_uri": "https://localhost:8080/"
        },
        "outputId": "07f4cc04-2707-4577-8f12-06b9ece8d631"
      },
      "outputs": [
        {
          "output_type": "stream",
          "name": "stdout",
          "text": [
            "[LightGBM] [Warning] feature_fraction is set=0.8, colsample_bytree=1.0 will be ignored. Current value: feature_fraction=0.8\n",
            "[LightGBM] [Warning] lambda_l2 is set=1, reg_lambda=0.0 will be ignored. Current value: lambda_l2=1\n",
            "[LightGBM] [Warning] min_gain_to_split is set=0.1, min_split_gain=0.0 will be ignored. Current value: min_gain_to_split=0.1\n",
            "[LightGBM] [Warning] lambda_l1 is set=1, reg_alpha=0.0 will be ignored. Current value: lambda_l1=1\n",
            "[LightGBM] [Warning] bagging_fraction is set=0.8, subsample=1.0 will be ignored. Current value: bagging_fraction=0.8\n",
            "[LightGBM] [Warning] feature_fraction is set=0.8, colsample_bytree=1.0 will be ignored. Current value: feature_fraction=0.8\n",
            "[LightGBM] [Warning] lambda_l2 is set=1, reg_lambda=0.0 will be ignored. Current value: lambda_l2=1\n",
            "[LightGBM] [Warning] min_gain_to_split is set=0.1, min_split_gain=0.0 will be ignored. Current value: min_gain_to_split=0.1\n",
            "[LightGBM] [Warning] lambda_l1 is set=1, reg_alpha=0.0 will be ignored. Current value: lambda_l1=1\n",
            "[LightGBM] [Warning] bagging_fraction is set=0.8, subsample=1.0 will be ignored. Current value: bagging_fraction=0.8\n",
            "[LightGBM] [Warning] feature_fraction is set=0.8, colsample_bytree=1.0 will be ignored. Current value: feature_fraction=0.8\n",
            "[LightGBM] [Warning] lambda_l2 is set=1, reg_lambda=0.0 will be ignored. Current value: lambda_l2=1\n",
            "[LightGBM] [Warning] min_gain_to_split is set=0.1, min_split_gain=0.0 will be ignored. Current value: min_gain_to_split=0.1\n",
            "[LightGBM] [Warning] lambda_l1 is set=1, reg_alpha=0.0 will be ignored. Current value: lambda_l1=1\n",
            "[LightGBM] [Warning] bagging_fraction is set=0.8, subsample=1.0 will be ignored. Current value: bagging_fraction=0.8\n"
          ]
        }
      ],
      "source": [
        "final_test_set=application_categorized2_test[selected_features]\n",
        "y_pred = mitigator.predict(final_test_set)\n",
        "mitigator_predictions = pd.DataFrame(y_pred)\n",
        "mitigator_predictions.to_csv('mitigator_predictions.csv')"
      ]
    },
    {
      "cell_type": "code",
      "execution_count": null,
      "id": "8mBr0qWU-5rX",
      "metadata": {
        "id": "8mBr0qWU-5rX"
      },
      "outputs": [],
      "source": [
        "final_test_index=pd.DataFrame(final_test_set.index)\n",
        "final_test_index.to_csv('mitigator_indexing.csv')"
      ]
    },
    {
      "cell_type": "markdown",
      "id": "1-rE6L9t40l6",
      "metadata": {
        "id": "1-rE6L9t40l6"
      },
      "source": [
        "## Explaining the Model"
      ]
    },
    {
      "cell_type": "code",
      "execution_count": null,
      "id": "b9rq06y4EDJ1",
      "metadata": {
        "id": "b9rq06y4EDJ1",
        "colab": {
          "base_uri": "https://localhost:8080/"
        },
        "outputId": "bc5602a5-933d-4def-ef7b-52bb3ab17298"
      },
      "outputs": [
        {
          "output_type": "stream",
          "name": "stderr",
          "text": [
            "/usr/local/lib/python3.11/dist-packages/shap/explainers/_tree.py:583: UserWarning: LightGBM binary classifier with TreeExplainer shap values output has changed to a list of ndarray\n",
            "  warnings.warn(\n"
          ]
        }
      ],
      "source": [
        "from scipy.stats import pearsonr\n",
        "X = X_test3.copy()\n",
        "y = y_test.copy()\n",
        "\n",
        "def safe_pearsonr(x, y):\n",
        "    if x.nunique() <= 1:  # constant column\n",
        "        return np.nan\n",
        "    # Drop rows where either x or y is NaN\n",
        "    valid = x.notna() & y.notna()\n",
        "    if valid.sum() == 0:\n",
        "        return np.nan\n",
        "    return pearsonr(x[valid], y[valid])[0]\n",
        "\n",
        "# Safe correlation with y\n",
        "correlation = X.apply(lambda col: safe_pearsonr(col, y))\n",
        "\n",
        "# Create SHAP explainer\n",
        "underlying_model = mitigator.predictors_[0]\n",
        "explainer = shap.TreeExplainer(underlying_model)\n",
        "shap_values = explainer.shap_values(X)\n",
        "\n",
        "# For binary classification: shap_values[1] corresponds to class 1\n",
        "shap_values_class1 = shap_values[1] if isinstance(shap_values, list) else shap_values\n",
        "\n",
        "# SHAP direction: mean of sign across SHAP values\n",
        "direction_values = np.sign(shap_values_class1).mean(axis=0)\n",
        "direction = pd.Series(direction_values, index=X.columns)\n",
        "\n",
        "# Clean mapping: handle NaNs too\n",
        "def interpret_direction(val):\n",
        "    if np.isnan(val):\n",
        "        return \"NaN\"\n",
        "    elif val > 0:\n",
        "        return \"↑ Increases prediction\"\n",
        "    elif val < 0:\n",
        "        return \"↓ Decreases prediction\"\n",
        "    else:\n",
        "        return \"↔ Neutral\"\n",
        "\n",
        "direction = direction.map(interpret_direction)"
      ]
    },
    {
      "cell_type": "code",
      "execution_count": null,
      "id": "jMUtqp6wAgzk",
      "metadata": {
        "id": "jMUtqp6wAgzk",
        "colab": {
          "base_uri": "https://localhost:8080/",
          "height": 1000
        },
        "outputId": "38224584-ea87-4f05-a418-939655692d56"
      },
      "outputs": [
        {
          "output_type": "stream",
          "name": "stderr",
          "text": [
            "/usr/local/lib/python3.11/dist-packages/shap/explainers/_tree.py:583: UserWarning: LightGBM binary classifier with TreeExplainer shap values output has changed to a list of ndarray\n",
            "  warnings.warn(\n",
            "<ipython-input-52-1ceee4a96faa>:32: ConstantInputWarning: An input array is constant; the correlation coefficient is not defined.\n",
            "  correlation = X.apply(lambda col: pearsonr(col, y)[0])\n"
          ]
        },
        {
          "output_type": "stream",
          "name": "stdout",
          "text": [
            "                            Mean |SHAP| Effect Direction  Correlation with Target\n",
            "EXT_SOURCE_2                   0.352449              NaN                      NaN\n",
            "EXT_SOURCE_3                   0.313152              NaN                      NaN\n",
            "EXT_SOURCE_1                   0.160343              NaN                      NaN\n",
            "sum_PAID_COMPLETE_WEIGHTED     0.110074              NaN                      NaN\n",
            "CODE_GENDER_M                  0.107210              NaN                 0.110320\n",
            "AMT_ANNUITY                    0.091657              NaN                      NaN\n",
            "OWN_CAR_AGE                    0.084989              NaN                      NaN\n",
            "PREV_CNT_PAYMENT_STD           0.080308              NaN                      NaN\n",
            "DAYS_EMPLOYED                  0.078789              NaN                -0.087328\n",
            "PREV_CNT_PAYMENT_MEAN          0.077936              NaN                      NaN\n"
          ]
        },
        {
          "output_type": "display_data",
          "data": {
            "text/plain": [
              "<Figure size 800x950 with 1 Axes>"
            ],
            "image/png": "[encoded data removed]"
          },
          "metadata": {}
        }
      ],
      "source": [
        "import shap\n",
        "import numpy as np\n",
        "import pandas as pd\n",
        "from sklearn.metrics import roc_auc_score\n",
        "from scipy.stats import pearsonr\n",
        "import matplotlib.pyplot as plt\n",
        "\n",
        "# Get the underlying LightGBM model from the ExponentiatedGradient mitigator\n",
        "underlying_model = mitigator.predictors_[0]\n",
        "\n",
        "\n",
        "# Use sanitized features if necessary\n",
        "X = X_test3.copy()\n",
        "y = y_test.copy()\n",
        "\n",
        "# Create SHAP explainer\n",
        "explainer = shap.TreeExplainer(underlying_model)\n",
        "shap_values = explainer.shap_values(X)\n",
        "\n",
        "# For binary classification: shap_values[1] corresponds to class 1\n",
        "shap_values_class1 = shap_values[1] if isinstance(shap_values, list) else shap_values\n",
        "\n",
        "# Calculate mean SHAP value for each feature\n",
        "mean_shap = pd.Series(np.abs(shap_values_class1).mean(axis=0), index=X.columns)\n",
        "mean_shap_sorted = mean_shap.sort_values(ascending=False)\n",
        "\n",
        "# Determine if feature effects are mostly positive or negative\n",
        "direction = pd.Series(np.sign(shap_values_class1).mean(axis=0), index=X.columns)\n",
        "direction = direction.map({1: \"↑ Increases prediction\", -1: \"↓ Decreases prediction\", 0: \"↔ Neutral\"})\n",
        "\n",
        "# Correlation of each feature with the target variable\n",
        "correlation = X.apply(lambda col: pearsonr(col, y)[0])\n",
        "\n",
        "# Combine into one summary DataFrame\n",
        "shap_summary = pd.DataFrame({\n",
        "    \"Mean |SHAP|\": mean_shap,\n",
        "    \"Effect Direction\": direction,\n",
        "    \"Correlation with Target\": correlation\n",
        "}).sort_values(by=\"Mean |SHAP|\", ascending=False)\n",
        "\n",
        "# Display top features\n",
        "top_n = 10\n",
        "print(shap_summary.head(top_n))\n",
        "\n",
        "# Plot SHAP summary plot\n",
        "shap.summary_plot(shap_values_class1, X, plot_type=\"bar\")"
      ]
    },
    {
      "cell_type": "code",
      "source": [
        "shap_summary.to_csv('model_explanation.csv')"
      ],
      "metadata": {
        "id": "YGJ9Tt5F_zbq"
      },
      "id": "YGJ9Tt5F_zbq",
      "execution_count": null,
      "outputs": []
    }
  ],
  "metadata": {
    "accelerator": "GPU",
    "colab": {
      "gpuType": "L4",
      "provenance": []
    },
    "kernelspec": {
      "display_name": "Python 3",
      "name": "python3"
    },
    "language_info": {
      "codemirror_mode": {
        "name": "ipython",
        "version": 3
      },
      "file_extension": ".py",
      "mimetype": "text/x-python",
      "name": "python",
      "nbconvert_exporter": "python",
      "pygments_lexer": "ipython3",
      "version": "3.10.11"
    }
  },
  "nbformat": 4,
  "nbformat_minor": 5
}